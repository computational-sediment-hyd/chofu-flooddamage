{
 "cells": [
  {
   "cell_type": "code",
   "execution_count": null,
   "metadata": {},
   "outputs": [],
   "source": [
    "import pandas as pd\n",
    "import geopandas as gpd\n",
    "import hvplot.pandas\n",
    "# import cartopy.crs as ccrs"
   ]
  },
  {
   "cell_type": "markdown",
   "metadata": {},
   "source": [
    "# load csv file"
   ]
  },
  {
   "cell_type": "code",
   "execution_count": null,
   "metadata": {},
   "outputs": [],
   "source": [
    "df = pd.read_csv('data-flooddamage/data.csv',index_col=0)"
   ]
  },
  {
   "cell_type": "markdown",
   "metadata": {},
   "source": [
    "# make bar chart"
   ]
  },
  {
   "cell_type": "code",
   "execution_count": null,
   "metadata": {},
   "outputs": [],
   "source": [
    "count = df['date'].value_counts(sort=False)\n",
    "scount = count.sort_index()\n",
    "\n",
    "d = pd.DataFrame(scount)\n",
    "d.columns = ['Damaged houses']\n",
    "d.index.name = 'date'\n",
    "\n",
    "g = d.hvplot.bar(y='Damaged houses', rot=30, width=400, height=250)  # + d.hvplot.table(['date', 'Damaged houses'], index_position=None, width=200)"
   ]
  },
  {
   "cell_type": "markdown",
   "metadata": {},
   "source": [
    "# make scatter plot"
   ]
  },
  {
   "cell_type": "code",
   "execution_count": null,
   "metadata": {},
   "outputs": [],
   "source": [
    "df2 = df[df['longitude'] != 0]\n",
    "gdf = gpd.GeoDataFrame(df2, geometry=gpd.points_from_xy(df2.longitude, df2.latitude))\n",
    "gdf = gdf.drop(['longitude','latitude'],axis = 1)\n",
    "# gdf['date'] = pd.to_datetime(gdf['date'])\n",
    "gdf.crs = 'epsg:4326'"
   ]
  },
  {
   "cell_type": "code",
   "execution_count": null,
   "metadata": {},
   "outputs": [],
   "source": [
    "from bokeh.models import HoverTool\n",
    "hover = HoverTool(tooltips=[ (\"address\", \"@address\"),(\"damage\", \"@damage\"),(\"cause\", \"@cause\")])"
   ]
  },
  {
   "cell_type": "code",
   "execution_count": null,
   "metadata": {},
   "outputs": [],
   "source": [
    "g2 = gdf.hvplot.points(geo=True, groupby='date', frame_height=400, frame_width=500, tiles=False, size=100, color='red'\n",
    "#                   ,crs = ccrs.PlateCarree(), project=True, projection=ccrs.PlateCarree()\n",
    "                       , hover_cols = ['address','damage','cause']\n",
    "                      ).options(tools=[hover])"
   ]
  },
  {
   "cell_type": "markdown",
   "metadata": {},
   "source": [
    "# make polygon"
   ]
  },
  {
   "cell_type": "code",
   "execution_count": null,
   "metadata": {},
   "outputs": [],
   "source": [
    "poly = gpd.read_file('chofu.geojson')\n",
    "p = poly.hvplot.polygons( geo=True, frame_height=400, frame_width=500, tiles=True, line_color='black', line_width=5, alpha=0.2, hover=False )"
   ]
  },
  {
   "cell_type": "markdown",
   "metadata": {},
   "source": [
    "# layout"
   ]
  },
  {
   "cell_type": "code",
   "execution_count": null,
   "metadata": {},
   "outputs": [],
   "source": [
    "layout = ( g + p*g2).cols(2)"
   ]
  },
  {
   "cell_type": "markdown",
   "metadata": {},
   "source": [
    "# on bokeh server"
   ]
  },
  {
   "cell_type": "code",
   "execution_count": null,
   "metadata": {},
   "outputs": [],
   "source": [
    "import holoviews as hv\n",
    "\n",
    "renderer = hv.renderer('bokeh')"
   ]
  },
  {
   "cell_type": "code",
   "execution_count": null,
   "metadata": {},
   "outputs": [],
   "source": [
    "doc = renderer.server_doc(layout)\n",
    "doc.title = 'chofu flood damage'"
   ]
  }
 ],
 "metadata": {
  "kernelspec": {
   "display_name": "Python 3",
   "language": "python",
   "name": "python3"
  },
  "language_info": {
   "codemirror_mode": {
    "name": "ipython",
    "version": 3
   },
   "file_extension": ".py",
   "mimetype": "text/x-python",
   "name": "python",
   "nbconvert_exporter": "python",
   "pygments_lexer": "ipython3",
   "version": "3.6.10"
  },
  "toc": {
   "base_numbering": 1,
   "nav_menu": {},
   "number_sections": true,
   "sideBar": true,
   "skip_h1_title": false,
   "title_cell": "Table of Contents",
   "title_sidebar": "Contents",
   "toc_cell": false,
   "toc_position": {},
   "toc_section_display": true,
   "toc_window_display": false
  }
 },
 "nbformat": 4,
 "nbformat_minor": 4
}
